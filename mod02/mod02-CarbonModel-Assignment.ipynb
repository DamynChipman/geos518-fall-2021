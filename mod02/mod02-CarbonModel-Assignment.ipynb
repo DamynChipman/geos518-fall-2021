{
 "cells": [
  {
   "cell_type": "markdown",
   "source": [
    "# Module 02: A Box Model Carbon Assignment\n",
    "\n",
    "### 1. Introduction\n",
    "\n",
    "In the accompanying notebook [mod02-CarbonModel1.ipynb](./mod02-CarbonModel1.ipynb) and in class we developed a relatively simple model of global carbon balance that assumed that tracked carbon in the atmosphere and biosphere. The system of equations we developed to describe this system are shown below,\n",
    "\n",
    "$$\n",
    "\\begin{align*}\n",
    "\\frac{dM_1}{dt} &= F_{21} - F_{12}\\\\\n",
    "&= k_{21}M_2 - k_{12}M_1\n",
    "\\end{align*}\n",
    "$$\n",
    "\n",
    "and,\n",
    "\n",
    "$$\n",
    "\\begin{align*}\n",
    "\\frac{dM_2}{dt} &= F_{12} - F_{21}\\\\\n",
    "&= k_{12}M_1 - k_{21}M_2\n",
    "\\end{align*}\n",
    "$$\n",
    "\n",
    "where $M_1$ is the mass of carbon in the atmosphere (GtC), $M_2$ is the mass of carbon in the biosphere (GtC), $F_{12}$ is the flux of carbon from the atmosphere to the biosphere due to photosynthesis (GtC/yr), and $F_{21}$ is the flux of carbon from the biosphere to the atmosphere due to decay and respiration (GtC/yr).\n",
    "\n",
    "In that notebook we develop a numerical model to describe that system, run it for given initial conditions and with no external inputs of carbon (we call this an \"unforced\" scenario) and compare it to the analytical solution. We observed that as the time step increased, we departed further from the analytical solution. \n",
    "\n",
    "In this assignment you will take your model one step more realistic by ensuring that the photosynthetic flux depends on both the amount of carbon in the atmosphere and in the biosphere. Then you will examine the impact of anthropogenic emissions from 1751-2008 on the biosphere and atmosphere, and how alternative future scenarios of emissions mitigation affect your system. \n",
    "\n",
    "The code cell below contains a couple of new commands and some file names that you will need in this assignment. You will need all of these commands, _but not necessarily"
   ],
   "metadata": {}
  },
  {
   "cell_type": "code",
   "execution_count": 1,
   "source": [
    "import numpy as np\n",
    "import matplotlib.pyplot as plt\n",
    "\n",
    "historical_emissions_file = 'AnthropogenicEmissions.1751_2008.csv'\n",
    "data = np.loadtxt(historical_emissions_file, delimiter=',', skiprows=1)\n",
    "# Read this documentation to understand what this command does: \n",
    "#    https://numpy.org/doc/stable/reference/generated/numpy.loadtxt.html\n",
    "year = data[:,0]\n",
    "cflux = data[:,1]\n",
    "\n",
    "cflux_t = np.interp(t, year, cflux)\n",
    "# Read this documentation to understand what this command does: \n",
    "#    https://numpy.org/doc/stable/reference/generated/numpy.interp.html\n",
    "\n",
    "np.diff(M1)\n",
    "# Read this documentation to understand what this command does: \n",
    "#    https://numpy.org/doc/stable/reference/generated/numpy.diff.html"
   ],
   "outputs": [
    {
     "output_type": "error",
     "ename": "NameError",
     "evalue": "name 't' is not defined",
     "traceback": [
      "\u001b[0;31m---------------------------------------------------------------------------\u001b[0m",
      "\u001b[0;31mNameError\u001b[0m                                 Traceback (most recent call last)",
      "\u001b[0;32m<ipython-input-1-24e6f56f30eb>\u001b[0m in \u001b[0;36m<module>\u001b[0;34m\u001b[0m\n\u001b[1;32m      9\u001b[0m \u001b[0mcflux\u001b[0m \u001b[0;34m=\u001b[0m \u001b[0mdata\u001b[0m\u001b[0;34m[\u001b[0m\u001b[0;34m:\u001b[0m\u001b[0;34m,\u001b[0m\u001b[0;36m1\u001b[0m\u001b[0;34m]\u001b[0m\u001b[0;34m\u001b[0m\u001b[0;34m\u001b[0m\u001b[0m\n\u001b[1;32m     10\u001b[0m \u001b[0;34m\u001b[0m\u001b[0m\n\u001b[0;32m---> 11\u001b[0;31m \u001b[0mcflux_t\u001b[0m \u001b[0;34m=\u001b[0m \u001b[0mnp\u001b[0m\u001b[0;34m.\u001b[0m\u001b[0minterp\u001b[0m\u001b[0;34m(\u001b[0m\u001b[0mt\u001b[0m\u001b[0;34m,\u001b[0m \u001b[0myear\u001b[0m\u001b[0;34m,\u001b[0m \u001b[0mcflux\u001b[0m\u001b[0;34m)\u001b[0m\u001b[0;34m\u001b[0m\u001b[0;34m\u001b[0m\u001b[0m\n\u001b[0m\u001b[1;32m     12\u001b[0m \u001b[0;31m# Read this documentation to understand what this command does:\u001b[0m\u001b[0;34m\u001b[0m\u001b[0;34m\u001b[0m\u001b[0;34m\u001b[0m\u001b[0m\n\u001b[1;32m     13\u001b[0m \u001b[0;31m#    https://numpy.org/doc/stable/reference/generated/numpy.interp.html\u001b[0m\u001b[0;34m\u001b[0m\u001b[0;34m\u001b[0m\u001b[0;34m\u001b[0m\u001b[0m\n",
      "\u001b[0;31mNameError\u001b[0m: name 't' is not defined"
     ]
    }
   ],
   "metadata": {}
  },
  {
   "cell_type": "markdown",
   "source": [
    "## 2. Assignment Tasks\n",
    "\n",
    "For all plots, label all axes and provide units.\n",
    "\n",
    "__Problem A: Modify and rerun the model__\n",
    "\n",
    "1. Modify the model so that the photosynthesis flux includes the mass of carbon in the land (i.e., $M_2$). Use the following parameters:\n",
    "\n",
    "  * $M_1^0$ = 1100.0 \n",
    "  * $M_2^0$ = 300.0 \n",
    "  * $k_{12}$ = 0.0003 \n",
    "  * $k_{21}$ = 0.1  \n",
    "\n",
    "2. Repeat the \"unforced\" (i.e., no anthropogenic emissions) simulation above, but run the model for `t = 100` years with a daily time step (i.e., `dt = 1/365`)\n",
    "3. Use the `print()` command to print out the value of $M_1$ and $M_2$ at the end of the simulation\n",
    "\n",
    "__Problem B: Examine impacts of human emissions__\n",
    "\n",
    "1. Load the anthropogenic emissions data for 1751-2008 (see numpy `np.loadtxt()` command usage [here](https://numpy.org/doc/stable/reference/generated/numpy.loadtxt.html)). Note that the data is in a comma separated variable file (named `AnthropogenicEmissions.1751_2008.csv`) with one header row.\n",
    "2. Plot the anthropogenic emissions data  \n",
    "3. Starting from the initial conditions ($M_1^0$ and $M_2^0$) corresponding to the final conditions noted in part __A(3)__ above, simulate the response of the carbon system to the anthropogenic emissions from 1751 to 2008 by adding an appropriate source term in the system of equations. Create the following plots:\n",
    "\n",
    "  * Mass of C in the atmosphere versus time \n",
    "  * Mass of C in the land versus time \n",
    "  * The change in mass of C in the atmosphere vs time \n",
    "  * The change in mass of C in the biosphere vs time \n",
    "    \n",
    "4. Use the `print()` command to print out the value of $M_1$ and $M_2$ at the end of the simulation in 2008.\n",
    "\n",
    "__Problem C: Examine the effects of mitigation__\n",
    "\n",
    "1. Load the alternative emission scenarios contained in the file `.csv`, which represent three pathways to net zero emissions: (a) net zero emissions by the year 2030 (column 2), (c) net zero emissions by 2050 (column 3), and zero emissions growth (i.e., constant emissions) starting in 2008 (column 4).\n",
    "2. Starting from the initial conditions ($M_1^0$ and $M_2^0$) corresponding to the final conditions noted in part __B(4)__ above, run the model three times, one for each scenario. Create the following plots: \n",
    "\n",
    "  * Mass of C in the atmosphere versus time (all three scenarios on one plot)\n",
    "  * Mass of C in the land versus time (all three scenarios on one plot)\n",
    "  * The change in mass of C in the atmosphere vs time \n",
    "  * The change in mass of C in the biosphere vs time \n"
   ],
   "metadata": {}
  },
  {
   "cell_type": "code",
   "execution_count": null,
   "source": [
    "future_emissions_file = 'EmissionsMitigationScenarios.csv'\n",
    "\n",
    "data = np.loadtxt()\n",
    "year = data[:,0]\n",
    "cflux_nz2030 = data[:,1]\n",
    "cflux_nz2050 = data[:,2]\n",
    "cflux_zeg = data[:,3]"
   ],
   "outputs": [],
   "metadata": {}
  }
 ],
 "metadata": {
  "kernelspec": {
   "name": "python3",
   "display_name": "Python 3.7.4 64-bit"
  },
  "language_info": {
   "codemirror_mode": {
    "name": "ipython",
    "version": 3
   },
   "file_extension": ".py",
   "mimetype": "text/x-python",
   "name": "python",
   "nbconvert_exporter": "python",
   "pygments_lexer": "ipython3",
   "version": "3.7.4"
  },
  "interpreter": {
   "hash": "aee8b7b246df8f9039afb4144a1f6fd8d2ca17a180786b69acc140d282b71a49"
  }
 },
 "nbformat": 4,
 "nbformat_minor": 4
}